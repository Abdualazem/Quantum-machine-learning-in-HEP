{
 "cells": [
  {
   "cell_type": "markdown",
   "metadata": {},
   "source": [
    "# Tutorial for the application of quantum machine learning in HEP\n",
    "\n",
    "This tutorial is a quick example of running support-vector machines in classical computers and a simulated quantum computer using a state vector simulator from IBM.\n",
    "Data samples from the Central Electron Positron Collider (CEPC) are used to demonstrate the performance of the support-vector machine.\n",
    "\n",
    "```{image} images/eeZH.pdf\n",
    ":width: 400px\n",
    ":align: center\n",
    "```\n",
    "    \n",
    "The $e^+e^-\\rightarrow ZH$ signal and its related backgrounds are utilised for the study where the $H\\rightarrow \\gamma\\gamma$ and $Z\\rightarrow q\\bar{q}$. They are plenty of events for the signal and backgrounds, but for this tutorial, you can use up o 2k events.\n",
    "\n",
    "## By the end of the tutorial you will learn the following\n",
    "- Preparing the dataset from root fills as _NumPy_ arrays\n",
    "- Understand how to constuct a quantum feature map\n",
    "- Run a support-vector machines algorithm in classical computers (SVM)\n",
    "- Run a quantum support-vector machines in simulated computers (QSVM)\n",
    "\n",
    "This tutorial is based on the results shown in this paper here on __[inspirehep](https://inspirehep.net/literature/2156652)__. Before you run the tutorial, you need to download the following packages by uncommenting the lines in the cell below."
   ]
  },
  {
   "cell_type": "code",
   "execution_count": 1,
   "metadata": {},
   "outputs": [],
   "source": [
    "#!pip install scikit-learn\n",
    "#!pip install scipy\n",
    "#!pip install qiskit\n",
    "#!pip install 'qiskit[visualization]'\n",
    "#!pip install pandas\n",
    "#!pip install uproot awkward\n",
    "#!pip3 install qiskit-machine-learning\n",
    "#!pip install qiskit-aer"
   ]
  },
  {
   "cell_type": "code",
   "execution_count": 5,
   "metadata": {},
   "outputs": [
    {
     "name": "stderr",
     "output_type": "stream",
     "text": [
      "/opt/homebrew/anaconda3/envs/qml/lib/python3.8/site-packages/qiskit/visualization/circuit/matplotlib.py:266: FutureWarning: The default matplotlib drawer scheme will be changed to \"iqp\" in a following release. To silence this warning, specify the current default explicitly as style=\"clifford\", or the new default as style=\"iqp\".\n",
      "  self._style, def_font_ratio = load_style(self._style)\n"
     ]
    }
   ],
   "source": [
    "%run PrepareData.ipynb\n",
    "%run Variables.ipynb\n",
    "%run featureMap.ipynb\n",
    "vardictionary = variables()\n",
    "nEvents = 200\n",
    "qubits = 6"
   ]
  },
  {
   "cell_type": "markdown",
   "metadata": {},
   "source": [
    "# Support-vector Machines\n",
    "\n",
    "<img style=\"float: right;\" src=\"images/SVM_margin.png\" width=\"400px\" />\n",
    "\n",
    "Support-vector machines are machine learning algorithms using supervised learning models with associated learning algorithms to analyse data for classification.\n",
    "\n",
    "Suppose we have a training dataset of $n$ points\n",
    "\n",
    "$$(\\vec{x}_i, y_i) \\dots (\\vec{x}_n, y_n)$$\n",
    "\n",
    "if these data points are not linearly separable \n",
    "\n",
    "$$k_{ij}(\\vec{x}_i,\\vec{x}_j) = \\left<f(\\vec{x}_i), f(\\vec{x}_j)\\right>$$\n",
    "\n",
    "There are different form for the $f(\\vec{x})$ function\n",
    "- Radial basis function $f(\\vec{x}_i) = e^{-\\frac{\\vec{x}^2_i}{2\\sigma^2}}$\n",
    "- Polynomial $f(\\vec{x}_i) = \\left(\\gamma\\cdot \\vec{x}^{T}_i+ r\\right)^d; \\gamma > 0$\n",
    "- Sigmoid $f(\\vec{x}_i) = \\tanh\\left(\\gamma\\cdot \\vec{x}^{T}_i+ r\\right)$ "
   ]
  },
  {
   "cell_type": "code",
   "execution_count": 6,
   "metadata": {},
   "outputs": [
    {
     "name": "stdout",
     "output_type": "stream",
     "text": [
      "Using the following variables:\n",
      " ['minDeltaR_y_j', 'DeltaPhi_yy', 'DeltaP_yy_jj', 'p_yy', 'e_yy', 'recoM_jj']\n",
      "number of signal: 200 number of background: 200\n",
      "Area under the curve (AUC): 0.8679471788715486\n"
     ]
    }
   ],
   "source": [
    "import matplotlib.pyplot as plt\n",
    "import sklearn\n",
    "from sklearn.metrics import normalized_mutual_info_score, roc_curve, auc, confusion_matrix, accuracy_score, roc_auc_score\n",
    "from sklearn import svm\n",
    "#from sklearn.datasets import make_blobs\n",
    "\n",
    "data = preparingData(prossEvent=nEvents, fraction=0.5, dictionary=vardictionary, nqubits=qubits, plot_variable=True, dataType=\"Classical\")\n",
    "X_train = data['X_train']\n",
    "y_train = data['y_train']\n",
    "X_test = data['X_test']\n",
    "y_test = data['y_test']\n",
    "\n",
    "\n",
    "svc = svm.SVC(kernel='rbf', probability=True)\n",
    "\n",
    "clf = svc.fit(X_train, y_train)\n",
    "\n",
    "y_score = clf.decision_function(X_test)\n",
    "\n",
    "svm_fpr, svm_tpr, threshold = sklearn.metrics.roc_curve(y_test, y_score)\n",
    "svm_aruc = sklearn.metrics.auc(svm_fpr, svm_tpr)\n",
    "\n",
    "print('Area under the curve (AUC):', svm_aruc)"
   ]
  },
  {
   "cell_type": "markdown",
   "metadata": {},
   "source": [
    "# Quantum support-vector Machines\n",
    "In a quantum kernel, a classical feature $\\vec{x}$ is mapped to higher dimension Hilbert space like $\\left|\\phi(\\vec{x})\\right>$ $\\left<\\phi(\\vec{x})\\right|$ in such a way that:\n",
    "$$k_{ij}(\\vec{x}_i, \\vec{x}_j) = \\left|\\left<\\phi(\\vec{x_i})\\right.\\left|\\phi(\\vec{x_j})\\right>\\right|^2$$\n",
    "That is what know as the Quantum Kernel estimator. This kernel is based on the idea presneted on this paper https://doi.org/10.1038/s41586-019-0980-2."
   ]
  },
  {
   "cell_type": "code",
   "execution_count": 8,
   "metadata": {},
   "outputs": [
    {
     "name": "stdout",
     "output_type": "stream",
     "text": [
      "Using the following variables:\n",
      " ['minDeltaR_y_j', 'DeltaPhi_yy', 'DeltaP_yy_jj', 'p_yy', 'e_yy', 'recoM_jj']\n",
      "number of signal: 200 number of background: 200\n",
      "*==================================================================================*\n"
     ]
    }
   ],
   "source": [
    "from qiskit import Aer\n",
    "#from qiskit.utils import QuantumInstance\n",
    "from qiskit_machine_learning.algorithms import QSVC\n",
    "#from qiskit_machine_learning.kernels import FidelityQuantumKernel\n",
    "from qiskit.providers.aer import AerSimulator\n",
    "from qiskit.primitives import Sampler\n",
    "from qiskit_algorithms.state_fidelities import ComputeUncompute\n",
    "from qiskit_machine_learning.kernels import FidelityQuantumKernel\n",
    "\n",
    "data = preparingData(prossEvent=nEvents, fraction=0.5, dictionary=vardictionary, nqubits=qubits, plot_variable=True, dataType=\"Quantum\")\n",
    "X_train = data['X_train']\n",
    "y_train = data['y_train']\n",
    "X_test = data['X_test']\n",
    "y_test = data['y_test']\n",
    "\n",
    "se=seed = 12345\n",
    "nshots = 1024\n",
    "feature_dim = qubits\n",
    "\n",
    "#backend = BasicAer.get_backend(\"statevector_simulator\")\n",
    "#backend = Aer.get_backend(\"statevector_simulator\")\n",
    "#backend = AerSimulator(method=\"statevector\", device=\"GPU\")\n",
    "feature_map = FeatureMap(num_qubits=feature_dim, depth=1, degree=1, entanglement='partial', inverse=False)\n",
    "\n",
    "#quantum_instance = QuantumInstance(backend, shots=nshots, seed_simulator=seed, seed_transpiler=seed)\n",
    "#qkernel = QuantumKernel(feature_map=feature_map, quantum_instance=quantum_instance)\n",
    "#qsvm = QSVC(quantum_kernel=qkernel, probability=True)\n",
    "\n",
    "\n",
    "sampler = Sampler()\n",
    "fidelity = ComputeUncompute(sampler=sampler)\n",
    "qkernel = FidelityQuantumKernel(fidelity=fidelity, feature_map=feature_map)\n",
    "qsvm = QSVC(quantum_kernel=qkernel, probability=True)"
   ]
  },
  {
   "cell_type": "code",
   "execution_count": 23,
   "metadata": {},
   "outputs": [
    {
     "name": "stdout",
     "output_type": "stream",
     "text": [
      "Area under the curve (AUC): 0.8510404161664666\n"
     ]
    }
   ],
   "source": [
    "qclf = qsvm.fit(X_train, y_train)\n",
    "y_qscore = qclf.decision_function(X_test)\n",
    "qsvm_fpr, qsvm_tpr, threshold = sklearn.metrics.roc_curve(y_test, y_qscore)\n",
    "qsvm_aruc = sklearn.metrics.auc(qsvm_fpr, qsvm_tpr)\n",
    "\n",
    "print('Area under the curve (AUC):', qsvm_aruc)"
   ]
  },
  {
   "cell_type": "code",
   "execution_count": null,
   "metadata": {},
   "outputs": [],
   "source": [
    "qsvm_kernel_matrix_train = qkernel.evaluate(x_vec=X_train)\n",
    "qsvm_kernel_matrix_test = qkernel.evaluate(x_vec=X_test,y_vec=X_train)\n",
    "\n",
    "plt.figure(figsize=(5, 5))\n",
    "plt.imshow(np.asmatrix(qsvm_kernel_matrix_train), interpolation='nearest', origin='upper', cmap='copper_r')\n",
    "plt.title(\"QSVC clustering kernel matrix (training)\")\n",
    "plt.savefig('images/Qsvm_clustering_kernel_matrinx_train.png')\n",
    "plt.show()\n",
    "\n",
    "plt.figure(figsize=(5, 5))\n",
    "plt.imshow(np.asmatrix(qsvm_kernel_matrix_test), interpolation='nearest', origin='upper', cmap='copper_r')\n",
    "plt.title(\"QSVC clustering kernel matrix (testing)\")\n",
    "plt.savefig('images/Qsvm_clustering_kernel_matrinx_test.png')\n",
    "plt.show()"
   ]
  },
  {
   "cell_type": "code",
   "execution_count": null,
   "metadata": {},
   "outputs": [],
   "source": [
    "plt.figure(figsize=(5, 5))\n",
    "ax = plt.gca()\n",
    "plt.plot([0, 1], [0, 1], 'r--')\n",
    "plt.plot(qsvm_tpr,1 - qsvm_fpr, 'b', label='QSVM')\n",
    "plt.plot(svm_tpr,1 - svm_fpr, 'k', label='SVM')\n",
    "plt.xlabel('Signal efficiency')\n",
    "plt.ylabel('Background rejection')\n",
    "#plt.title('ROC curve')\n",
    "ax.set_xlabel('Signal efficiency', loc='right')\n",
    "ax.tick_params(axis=\"x\", direction='in', length=6)\n",
    "ax.tick_params(axis=\"y\", direction='in', length=6)\n",
    "ax.xaxis.set_ticks_position('both')\n",
    "ax.yaxis.set_ticks_position('both')\n",
    "plt.legend(loc='best')\n",
    "plt.savefig('images/ROC.png')\n",
    "plt.show()"
   ]
  },
  {
   "cell_type": "code",
   "execution_count": null,
   "metadata": {},
   "outputs": [],
   "source": []
  }
 ],
 "metadata": {
  "kernelspec": {
   "display_name": "Python 3 (ipykernel)",
   "language": "python",
   "name": "python3"
  },
  "language_info": {
   "codemirror_mode": {
    "name": "ipython",
    "version": 3
   },
   "file_extension": ".py",
   "mimetype": "text/x-python",
   "name": "python",
   "nbconvert_exporter": "python",
   "pygments_lexer": "ipython3",
   "version": "3.8.18"
  }
 },
 "nbformat": 4,
 "nbformat_minor": 4
}
