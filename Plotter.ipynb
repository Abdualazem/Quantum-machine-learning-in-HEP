{
 "cells": [
  {
   "cell_type": "code",
   "execution_count": 1,
   "id": "271b6d72-f9d3-42b6-aa01-3b2d8760ea8a",
   "metadata": {},
   "outputs": [
    {
     "name": "stdout",
     "output_type": "stream",
     "text": [
      "Welcome to JupyROOT 6.28/00\n"
     ]
    }
   ],
   "source": [
    "import ROOT\n",
    "import logging\n",
    "from array import array\n",
    "import sys, re\n",
    "import os\n",
    "import matplotlib.pyplot as plt\n",
    "import matplotlib\n",
    "import numpy as np"
   ]
  },
  {
   "cell_type": "code",
   "execution_count": 2,
   "id": "a6584810-7556-47d1-87bb-1c7332c061b7",
   "metadata": {},
   "outputs": [],
   "source": [
    "def getHistograms(variableName, variableStyle, dataset, j, min, max, sample=\"signal\"):\n",
    "\n",
    "    h = ROOT.TH1F(\n",
    "        sample + \"_\" + variableName,\n",
    "        sample + \"_\" + variableName,\n",
    "        100,\n",
    "        min,\n",
    "        max,\n",
    "    )\n",
    "\n",
    "    for i in range(len(dataset)):\n",
    "        h.Fill(dataset[i][j])\n",
    "    h.GetXaxis().SetTitle(variableStyle)\n",
    "\n",
    "    return h"
   ]
  },
  {
   "cell_type": "code",
   "execution_count": 3,
   "id": "0a940dd5-6076-4bf7-9957-71903bc75187",
   "metadata": {},
   "outputs": [],
   "source": [
    "def plotVars(dictionary, signal_dataset, bkg_dataset):\n",
    "\n",
    "    variableName = [*dictionary.keys()]\n",
    "    variableStyle = [*dictionary.values()]\n",
    "\n",
    "    for j in range(len(variableName)):\n",
    "        max = 1.0\n",
    "        min =-1.0\n",
    "        for i in range(len(signal_dataset)):\n",
    "           max=np.maximum(signal_dataset[i][j],max)\n",
    "           min=np.minimum(signal_dataset[i][j],min)\n",
    "\n",
    "        logging.info(\"range of \" + variableName[j] + \" : [\" + str(min) + \", \" + str(max) + \"]\")\n",
    "        logging.info(\"plotting \" + variableName[j])\n",
    "\n",
    "        hist_signal = getHistograms(\n",
    "            variableName[j], variableStyle[j], signal_dataset, j, min, max, sample=\"signal\"\n",
    "        )\n",
    "        hist_bkg = getHistograms(\n",
    "            variableName[j], variableStyle[j], bkg_dataset, j, min, max, sample=\"bkg\"\n",
    "        )\n",
    "        canvas = ROOT.TCanvas(\"canvas\", \"canvas\", 600, 600)\n",
    "        canvas.SetTickx()\n",
    "        canvas.SetTicky()\n",
    "        ROOT.gPad.SetLeftMargin(0.14)\n",
    "        ROOT.gStyle.SetOptStat(0)\n",
    "        canvas.SetName(variableName[j])\n",
    "        if hist_bkg.Integral() != 0 and hist_bkg.Integral() != 0:\n",
    "            hist_signal.Scale(1 / float(hist_signal.Integral()))\n",
    "            hist_bkg.Scale(1 / float(hist_bkg.Integral()))\n",
    "        hist_signal.SetLineColor(2)\n",
    "        hist_bkg.SetLineColor(4)\n",
    "        hist_signal.SetMarkerColor(2)\n",
    "        hist_signal.GetYaxis().SetTitle(\"Arbitrary units\")\n",
    "        hist_signal.GetYaxis().SetTitleOffset(1.7)\n",
    "        hist_signal.GetXaxis().SetTitleOffset(1.2)\n",
    "        hist_bkg.SetMarkerColor(4)\n",
    "        hist_signal.SetFillColor(2)\n",
    "        hist_bkg.SetFillColor(4)\n",
    "        hist_signal.SetFillStyle(3004)\n",
    "        hist_signal.SetTitle(\"\")\n",
    "        hist_bkg.SetFillStyle(3005)\n",
    "        hist_bkg.SetTitle(\"\")\n",
    "        ymax = np.maximum(hist_signal.GetMaximum(), hist_bkg.GetMaximum())\n",
    "        hist_signal.GetYaxis().SetRangeUser(0, 1.5 * ymax)\n",
    "        #hist_signal.GetXaxis().SetRangeUser(-1, 1)\n",
    "\n",
    "        hist_signal.Draw(\"hist\")\n",
    "        hist_bkg.Draw(\"hist same\")\n",
    "        legend = ROOT.TLegend(0.60, 0.74, 0.85, 0.86)\n",
    "        legend.SetBorderSize(0)\n",
    "        legend.SetTextAlign(12)\n",
    "        legend.SetTextFont(42)\n",
    "        legend.SetTextSize(0.035)\n",
    "        legend.SetLineColor(0)\n",
    "        legend.SetLineStyle(0)\n",
    "        legend.SetLineWidth(0)\n",
    "        legend.SetFillColor(0)\n",
    "        legend.SetFillStyle(1001)\n",
    "\n",
    "        legend.AddEntry(hist_signal, \"Signal\", \"F\")\n",
    "        legend.AddEntry(hist_bkg, \"Background\", \"F\")\n",
    "        legend.Draw()\n",
    "        canvas.Draw()\n",
    "\n",
    "        canvas.Print(\"./images/variables/\" + variableName[j] +\".pdf\")"
   ]
  },
  {
   "cell_type": "code",
   "execution_count": null,
   "id": "ab82e273-dfb9-4640-a68d-bd0a4d93cc19",
   "metadata": {},
   "outputs": [],
   "source": []
  },
  {
   "cell_type": "code",
   "execution_count": null,
   "id": "1ad3f1d1-45d6-4f93-944f-a43b20d4c6db",
   "metadata": {},
   "outputs": [],
   "source": []
  }
 ],
 "metadata": {
  "kernelspec": {
   "display_name": "Python 3 (ipykernel)",
   "language": "python",
   "name": "python3"
  },
  "language_info": {
   "codemirror_mode": {
    "name": "ipython",
    "version": 3
   },
   "file_extension": ".py",
   "mimetype": "text/x-python",
   "name": "python",
   "nbconvert_exporter": "python",
   "pygments_lexer": "ipython3",
   "version": "3.10.11"
  }
 },
 "nbformat": 4,
 "nbformat_minor": 5
}
